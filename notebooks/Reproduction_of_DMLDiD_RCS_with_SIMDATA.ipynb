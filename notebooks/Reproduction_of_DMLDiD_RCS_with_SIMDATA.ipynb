{
  "nbformat": 4,
  "nbformat_minor": 0,
  "metadata": {
    "colab": {
      "provenance": [],
      "authorship_tag": "ABX9TyOxH/KprHqswtc7a8qRJW9q",
      "include_colab_link": true
    },
    "kernelspec": {
      "name": "python3",
      "display_name": "Python 3"
    },
    "language_info": {
      "name": "python"
    }
  },
  "cells": [
    {
      "cell_type": "markdown",
      "metadata": {
        "id": "view-in-github",
        "colab_type": "text"
      },
      "source": [
        "<a href=\"https://colab.research.google.com/github/MasaAsami/modified_DMLDiD_RCS/blob/main/notebooks/Reproduction_of_DMLDiD_RCS_with_SIMDATA.ipynb\" target=\"_parent\"><img src=\"https://colab.research.google.com/assets/colab-badge.svg\" alt=\"Open In Colab\"/></a>"
      ]
    },
    {
      "cell_type": "code",
      "execution_count": 1,
      "metadata": {
        "colab": {
          "base_uri": "https://localhost:8080/"
        },
        "id": "44Q7qgwgmQrW",
        "outputId": "cf2882b9-be48-461f-f352-ae8bdfc4ea3d"
      },
      "outputs": [
        {
          "output_type": "stream",
          "name": "stdout",
          "text": [
            "Cloning into 'modified_DMLDiD_RCS'...\n",
            "remote: Enumerating objects: 21, done.\u001b[K\n",
            "remote: Counting objects: 100% (21/21), done.\u001b[K\n",
            "remote: Compressing objects: 100% (18/18), done.\u001b[K\n",
            "remote: Total 21 (delta 7), reused 8 (delta 2), pack-reused 0\u001b[K\n",
            "Unpacking objects: 100% (21/21), done.\n"
          ]
        }
      ],
      "source": [
        "!git clone https://github.com/MasaAsami/modified_DMLDiD_RCS.git\n",
        "cd modified_DMLDiD_RCS\n",
        "cd notebooks"
      ]
    },
    {
      "cell_type": "code",
      "source": [
        "# title import pkg\n",
        "import warnings\n",
        "\n",
        "warnings.filterwarnings(\"ignore\")\n",
        "\n",
        "import sys\n",
        "import os\n",
        "\n",
        "\n",
        "import pandas as pd\n",
        "import numpy as np\n",
        "from matplotlib import pyplot as plt\n",
        "import seaborn as sns\n",
        "plt.style.use('ggplot')\n",
        "\n",
        "import re\n",
        "from tqdm import tqdm\n",
        "\n",
        "from sklearn.model_selection import train_test_split\n",
        "from lightgbm import LGBMClassifier, LGBMRegressor\n",
        "from sklearn.linear_model import LogisticRegressionCV, LassoCV, Lasso, ElasticNetCV, LogisticRegression\n",
        "\n",
        "from sklearn.metrics import roc_auc_score, roc_curve\n",
        "from sklearn.metrics import mean_absolute_error, mean_squared_error\n",
        "from sklearn.model_selection import GroupKFold, KFold\n",
        "\n",
        "sys.path.append(os.path.abspath(\"../\"))\n",
        "from dmldid.model_rcs import DMLDiD_RCS\n",
        "\n",
        "from dmldid.simdata_genrater import generate_simdata_rcs, generate_simdata_rcs_fixX"
      ],
      "metadata": {
        "id": "nXYnIYYemjvC"
      },
      "execution_count": 14,
      "outputs": []
    },
    {
      "cell_type": "code",
      "source": [],
      "metadata": {
        "colab": {
          "base_uri": "https://localhost:8080/"
        },
        "id": "WqQScPh7mtgZ",
        "outputId": "a80e5cfb-b04c-4e64-e233-f357204ce6a9"
      },
      "execution_count": 7,
      "outputs": [
        {
          "output_type": "stream",
          "name": "stdout",
          "text": [
            "/content/modified_DMLDiD_RCS/notebooks\n"
          ]
        }
      ]
    },
    {
      "cell_type": "code",
      "source": [
        "df_rcs = generate_simdata_rcs_fixX(\n",
        "    base_seed=1, N=500, Xcolumns_cnt=10, nonnull_x_cnt=3, true_att=3\n",
        ")\n",
        "df_rcs.head()"
      ],
      "metadata": {
        "colab": {
          "base_uri": "https://localhost:8080/",
          "height": 250
        },
        "id": "0mwipTvPm2lO",
        "outputId": "07c6bc89-3f5e-46b2-9cbf-c91c17054378"
      },
      "execution_count": 15,
      "outputs": [
        {
          "output_type": "execute_result",
          "data": {
            "text/plain": [
              "   unit_id        x0        x1        x2        x3        x4         x5  \\\n",
              "0        0 -9.158183  1.161933 -4.532897 -0.930350 -1.603513  -1.724936   \n",
              "1        1 -3.828637  0.838513 -8.531369 -7.304513  3.296022  -1.154199   \n",
              "2        2 -6.398642  0.564814 -0.966379  3.116474 -2.249222 -13.965425   \n",
              "3        3 -4.874784  0.839733 -8.429688  6.560939  7.819512   9.687644   \n",
              "4        4 -4.776949  0.900822 -4.429587  1.324093 -5.327807   1.831660   \n",
              "\n",
              "          x6        x7         x8         x9  latent_group  latent_ps  D  \\\n",
              "0  12.394700  7.070890 -10.452273  -4.790106             0        0.9  0   \n",
              "1  -8.826942  6.440126   0.611044  10.063201             0        0.9  0   \n",
              "2  -4.981031 -1.365401   2.937855   6.069565             0        0.9  1   \n",
              "3  -5.283466  5.637754   9.863194  -6.501527             0        0.9  0   \n",
              "4  -1.674586 -4.909411  -3.382856   9.890967             0        0.9  1   \n",
              "\n",
              "           Y  T  \n",
              "0  39.009103  0  \n",
              "1  46.126856  1  \n",
              "2  57.573361  0  \n",
              "3  40.649214  0  \n",
              "4  47.394932  0  "
            ],
            "text/html": [
              "\n",
              "  <div id=\"df-7f32545b-248c-466f-86b7-c3e1da217bbc\">\n",
              "    <div class=\"colab-df-container\">\n",
              "      <div>\n",
              "<style scoped>\n",
              "    .dataframe tbody tr th:only-of-type {\n",
              "        vertical-align: middle;\n",
              "    }\n",
              "\n",
              "    .dataframe tbody tr th {\n",
              "        vertical-align: top;\n",
              "    }\n",
              "\n",
              "    .dataframe thead th {\n",
              "        text-align: right;\n",
              "    }\n",
              "</style>\n",
              "<table border=\"1\" class=\"dataframe\">\n",
              "  <thead>\n",
              "    <tr style=\"text-align: right;\">\n",
              "      <th></th>\n",
              "      <th>unit_id</th>\n",
              "      <th>x0</th>\n",
              "      <th>x1</th>\n",
              "      <th>x2</th>\n",
              "      <th>x3</th>\n",
              "      <th>x4</th>\n",
              "      <th>x5</th>\n",
              "      <th>x6</th>\n",
              "      <th>x7</th>\n",
              "      <th>x8</th>\n",
              "      <th>x9</th>\n",
              "      <th>latent_group</th>\n",
              "      <th>latent_ps</th>\n",
              "      <th>D</th>\n",
              "      <th>Y</th>\n",
              "      <th>T</th>\n",
              "    </tr>\n",
              "  </thead>\n",
              "  <tbody>\n",
              "    <tr>\n",
              "      <th>0</th>\n",
              "      <td>0</td>\n",
              "      <td>-9.158183</td>\n",
              "      <td>1.161933</td>\n",
              "      <td>-4.532897</td>\n",
              "      <td>-0.930350</td>\n",
              "      <td>-1.603513</td>\n",
              "      <td>-1.724936</td>\n",
              "      <td>12.394700</td>\n",
              "      <td>7.070890</td>\n",
              "      <td>-10.452273</td>\n",
              "      <td>-4.790106</td>\n",
              "      <td>0</td>\n",
              "      <td>0.9</td>\n",
              "      <td>0</td>\n",
              "      <td>39.009103</td>\n",
              "      <td>0</td>\n",
              "    </tr>\n",
              "    <tr>\n",
              "      <th>1</th>\n",
              "      <td>1</td>\n",
              "      <td>-3.828637</td>\n",
              "      <td>0.838513</td>\n",
              "      <td>-8.531369</td>\n",
              "      <td>-7.304513</td>\n",
              "      <td>3.296022</td>\n",
              "      <td>-1.154199</td>\n",
              "      <td>-8.826942</td>\n",
              "      <td>6.440126</td>\n",
              "      <td>0.611044</td>\n",
              "      <td>10.063201</td>\n",
              "      <td>0</td>\n",
              "      <td>0.9</td>\n",
              "      <td>0</td>\n",
              "      <td>46.126856</td>\n",
              "      <td>1</td>\n",
              "    </tr>\n",
              "    <tr>\n",
              "      <th>2</th>\n",
              "      <td>2</td>\n",
              "      <td>-6.398642</td>\n",
              "      <td>0.564814</td>\n",
              "      <td>-0.966379</td>\n",
              "      <td>3.116474</td>\n",
              "      <td>-2.249222</td>\n",
              "      <td>-13.965425</td>\n",
              "      <td>-4.981031</td>\n",
              "      <td>-1.365401</td>\n",
              "      <td>2.937855</td>\n",
              "      <td>6.069565</td>\n",
              "      <td>0</td>\n",
              "      <td>0.9</td>\n",
              "      <td>1</td>\n",
              "      <td>57.573361</td>\n",
              "      <td>0</td>\n",
              "    </tr>\n",
              "    <tr>\n",
              "      <th>3</th>\n",
              "      <td>3</td>\n",
              "      <td>-4.874784</td>\n",
              "      <td>0.839733</td>\n",
              "      <td>-8.429688</td>\n",
              "      <td>6.560939</td>\n",
              "      <td>7.819512</td>\n",
              "      <td>9.687644</td>\n",
              "      <td>-5.283466</td>\n",
              "      <td>5.637754</td>\n",
              "      <td>9.863194</td>\n",
              "      <td>-6.501527</td>\n",
              "      <td>0</td>\n",
              "      <td>0.9</td>\n",
              "      <td>0</td>\n",
              "      <td>40.649214</td>\n",
              "      <td>0</td>\n",
              "    </tr>\n",
              "    <tr>\n",
              "      <th>4</th>\n",
              "      <td>4</td>\n",
              "      <td>-4.776949</td>\n",
              "      <td>0.900822</td>\n",
              "      <td>-4.429587</td>\n",
              "      <td>1.324093</td>\n",
              "      <td>-5.327807</td>\n",
              "      <td>1.831660</td>\n",
              "      <td>-1.674586</td>\n",
              "      <td>-4.909411</td>\n",
              "      <td>-3.382856</td>\n",
              "      <td>9.890967</td>\n",
              "      <td>0</td>\n",
              "      <td>0.9</td>\n",
              "      <td>1</td>\n",
              "      <td>47.394932</td>\n",
              "      <td>0</td>\n",
              "    </tr>\n",
              "  </tbody>\n",
              "</table>\n",
              "</div>\n",
              "      <button class=\"colab-df-convert\" onclick=\"convertToInteractive('df-7f32545b-248c-466f-86b7-c3e1da217bbc')\"\n",
              "              title=\"Convert this dataframe to an interactive table.\"\n",
              "              style=\"display:none;\">\n",
              "        \n",
              "  <svg xmlns=\"http://www.w3.org/2000/svg\" height=\"24px\"viewBox=\"0 0 24 24\"\n",
              "       width=\"24px\">\n",
              "    <path d=\"M0 0h24v24H0V0z\" fill=\"none\"/>\n",
              "    <path d=\"M18.56 5.44l.94 2.06.94-2.06 2.06-.94-2.06-.94-.94-2.06-.94 2.06-2.06.94zm-11 1L8.5 8.5l.94-2.06 2.06-.94-2.06-.94L8.5 2.5l-.94 2.06-2.06.94zm10 10l.94 2.06.94-2.06 2.06-.94-2.06-.94-.94-2.06-.94 2.06-2.06.94z\"/><path d=\"M17.41 7.96l-1.37-1.37c-.4-.4-.92-.59-1.43-.59-.52 0-1.04.2-1.43.59L10.3 9.45l-7.72 7.72c-.78.78-.78 2.05 0 2.83L4 21.41c.39.39.9.59 1.41.59.51 0 1.02-.2 1.41-.59l7.78-7.78 2.81-2.81c.8-.78.8-2.07 0-2.86zM5.41 20L4 18.59l7.72-7.72 1.47 1.35L5.41 20z\"/>\n",
              "  </svg>\n",
              "      </button>\n",
              "      \n",
              "  <style>\n",
              "    .colab-df-container {\n",
              "      display:flex;\n",
              "      flex-wrap:wrap;\n",
              "      gap: 12px;\n",
              "    }\n",
              "\n",
              "    .colab-df-convert {\n",
              "      background-color: #E8F0FE;\n",
              "      border: none;\n",
              "      border-radius: 50%;\n",
              "      cursor: pointer;\n",
              "      display: none;\n",
              "      fill: #1967D2;\n",
              "      height: 32px;\n",
              "      padding: 0 0 0 0;\n",
              "      width: 32px;\n",
              "    }\n",
              "\n",
              "    .colab-df-convert:hover {\n",
              "      background-color: #E2EBFA;\n",
              "      box-shadow: 0px 1px 2px rgba(60, 64, 67, 0.3), 0px 1px 3px 1px rgba(60, 64, 67, 0.15);\n",
              "      fill: #174EA6;\n",
              "    }\n",
              "\n",
              "    [theme=dark] .colab-df-convert {\n",
              "      background-color: #3B4455;\n",
              "      fill: #D2E3FC;\n",
              "    }\n",
              "\n",
              "    [theme=dark] .colab-df-convert:hover {\n",
              "      background-color: #434B5C;\n",
              "      box-shadow: 0px 1px 3px 1px rgba(0, 0, 0, 0.15);\n",
              "      filter: drop-shadow(0px 1px 2px rgba(0, 0, 0, 0.3));\n",
              "      fill: #FFFFFF;\n",
              "    }\n",
              "  </style>\n",
              "\n",
              "      <script>\n",
              "        const buttonEl =\n",
              "          document.querySelector('#df-7f32545b-248c-466f-86b7-c3e1da217bbc button.colab-df-convert');\n",
              "        buttonEl.style.display =\n",
              "          google.colab.kernel.accessAllowed ? 'block' : 'none';\n",
              "\n",
              "        async function convertToInteractive(key) {\n",
              "          const element = document.querySelector('#df-7f32545b-248c-466f-86b7-c3e1da217bbc');\n",
              "          const dataTable =\n",
              "            await google.colab.kernel.invokeFunction('convertToInteractive',\n",
              "                                                     [key], {});\n",
              "          if (!dataTable) return;\n",
              "\n",
              "          const docLinkHtml = 'Like what you see? Visit the ' +\n",
              "            '<a target=\"_blank\" href=https://colab.research.google.com/notebooks/data_table.ipynb>data table notebook</a>'\n",
              "            + ' to learn more about interactive tables.';\n",
              "          element.innerHTML = '';\n",
              "          dataTable['output_type'] = 'display_data';\n",
              "          await google.colab.output.renderOutput(dataTable, element);\n",
              "          const docLink = document.createElement('div');\n",
              "          docLink.innerHTML = docLinkHtml;\n",
              "          element.appendChild(docLink);\n",
              "        }\n",
              "      </script>\n",
              "    </div>\n",
              "  </div>\n",
              "  "
            ]
          },
          "metadata": {},
          "execution_count": 15
        }
      ]
    },
    {
      "cell_type": "code",
      "source": [
        "fig, ax = plt.subplots(1, 1, sharex='col', sharey='row', figsize=(10,5))\n",
        "sns.lineplot(x=\"T\", y=\"Y\", hue=\"D\",  data=df_rcs, ax=ax)\n",
        "ax.axvline(x=0.5, alpha=0.5, color = \"black\")\n",
        "plt.show()"
      ],
      "metadata": {
        "colab": {
          "base_uri": "https://localhost:8080/",
          "height": 337
        },
        "id": "MaaBLBhOoXM3",
        "outputId": "7855d469-ffbb-4ebf-b8c2-87892f987d47"
      },
      "execution_count": 16,
      "outputs": [
        {
          "output_type": "display_data",
          "data": {
            "text/plain": [
              "<Figure size 720x360 with 1 Axes>"
            ],
            "image/png": "[encoded data removed]"
          },
          "metadata": {}
        }
      ]
    },
    {
      "cell_type": "code",
      "source": [
        "y_col = \"Y\"\n",
        "d_col = \"D\"\n",
        "t_col = \"T\"\n",
        "X_cols = [col for col in df_rcs.columns if \"x\" in col]"
      ],
      "metadata": {
        "id": "RITJHaoHoeYe"
      },
      "execution_count": 17,
      "outputs": []
    },
    {
      "cell_type": "code",
      "source": [
        "linear_dmldid = DMLDiD_RCS(\n",
        "    #d_model= LogisticRegression(penalty='l1', C=0.359381, random_state=0, solver='saga'),\n",
        "    #l2k_model=LassoCV(cv=5, random_state=333),\n",
        "    )\n",
        "lgbm_dmldid = DMLDiD_RCS(\n",
        "    d_model= LGBMClassifier(random_state=0),\n",
        "    l2k_model=LGBMRegressor(random_state=0),\n",
        "    )"
      ],
      "metadata": {
        "id": "9mqCwKCZosXc"
      },
      "execution_count": 18,
      "outputs": []
    },
    {
      "cell_type": "code",
      "source": [
        "linear_dmldid.fit(\n",
        "    df_rcs,\n",
        "    y_col,\n",
        "    d_col,\n",
        "    t_col,\n",
        "    X_cols,\n",
        "    dmldid=True,\n",
        "    sim_cnt=100,\n",
        "    base_random_seed=0,\n",
        "    progress_plot=True,\n",
        "    d_model_t0_only=True\n",
        ")\n",
        "algo_modified_bar = linear_dmldid.sim_att_result()"
      ],
      "metadata": {
        "colab": {
          "base_uri": "https://localhost:8080/"
        },
        "id": "7SOYyRLSovMS",
        "outputId": "bbbfeb06-0e5f-4c8a-eab3-61fc1ac90b05"
      },
      "execution_count": 19,
      "outputs": [
        {
          "output_type": "stream",
          "name": "stdout",
          "text": [
            "99. att :  2.9575125452350495\n"
          ]
        }
      ]
    },
    {
      "cell_type": "code",
      "source": [
        "lgbm_dmldid.fit(\n",
        "    df_rcs,\n",
        "    y_col,\n",
        "    d_col,\n",
        "    t_col,\n",
        "    X_cols,\n",
        "    dmldid=True,\n",
        "    sim_cnt=100,\n",
        "    base_random_seed=0,\n",
        "    progress_plot=True,\n",
        "    d_model_t0_only=True\n",
        ")\n",
        "algo_modified_bar_lgbm = lgbm_dmldid.sim_att_result()"
      ],
      "metadata": {
        "colab": {
          "base_uri": "https://localhost:8080/"
        },
        "id": "RtUvIFIwoyvW",
        "outputId": "4c3f19dc-bc43-470f-aa32-29bcb02354e6"
      },
      "execution_count": 20,
      "outputs": [
        {
          "output_type": "stream",
          "name": "stdout",
          "text": [
            "99. att :  2.2269729921364996\n"
          ]
        }
      ]
    },
    {
      "cell_type": "code",
      "source": [
        "def original_dmldid_rcs(\n",
        "    df,\n",
        "    y_col,\n",
        "    d_col,\n",
        "    t_col,\n",
        "    X_cols,\n",
        "    d_model=LogisticRegressionCV(cv=5, random_state=333, penalty=\"l1\", solver=\"saga\"),\n",
        "    l2k_model=LassoCV(cv=5, random_state=333),\n",
        "    original=True,\n",
        "):\n",
        "    B = 100\n",
        "    K = 2  # ２分割\n",
        "\n",
        "    thetabar = []\n",
        "\n",
        "    for l in tqdm(range(B)):\n",
        "        df_set = train_test_split(df, random_state=l, test_size=0.5)\n",
        "        _thetabar = []\n",
        "        for i in range(K):\n",
        "            k = 0 if i == 0 else 1\n",
        "            c = 1 if i == 0 else 0\n",
        "            d_model.fit(df_set[c][X_cols], df_set[c][d_col])\n",
        "\n",
        "            eps = 0.03\n",
        "            if original and hasattr(d_model, \"coef_\"):\n",
        "                z = df_set[k][X_cols] @ d_model.coef_.T\n",
        "                ghat = 1 / (1 + np.exp(-1 * z))\n",
        "            else:\n",
        "                ghat = d_model.predict_proba(df_set[k][X_cols])[:, 1]\n",
        "\n",
        "            cal_index = (eps <= ghat) & (ghat <= 1 - eps)\n",
        "\n",
        "            ghat = np.clip(\n",
        "                d_model.predict_proba(df_set[k][X_cols])[:, 1],\n",
        "                eps,\n",
        "                1 - eps,\n",
        "            )\n",
        "\n",
        "            lamda_hat = df_set[c][t_col].mean()\n",
        "            if original:\n",
        "                p_hat = df_set[k][d_col].mean()  # 本当はｃでは？\n",
        "            else:\n",
        "                p_hat = df_set[c][d_col].mean()\n",
        "\n",
        "            control_y = df_set[c].query(f\"{d_col} < 1\")[y_col]\n",
        "            control_t = df_set[c].query(f\"{d_col} < 1\")[t_col]\n",
        "            control_x = df_set[c].query(f\"{d_col} < 1\")[X_cols]\n",
        "\n",
        "            _y = (control_t - lamda_hat) * control_y\n",
        "\n",
        "            l2k_model.fit(control_x, _y)\n",
        "\n",
        "            if original and hasattr(l2k_model, \"coef_\"):\n",
        "                l2k_hat = df_set[k][X_cols] @ l2k_model.coef_.T  # 間違い　切片が消えてる\n",
        "            else:\n",
        "                l2k_hat = l2k_model.predict(df_set[k][X_cols])\n",
        "\n",
        "            _c = (\n",
        "                ((df_set[k][t_col] - lamda_hat) * df_set[k][y_col] - l2k_hat)\n",
        "                * (df_set[k][d_col] - ghat)\n",
        "                / ((1 - ghat) * lamda_hat * (1 - lamda_hat) * p_hat)\n",
        "            )\n",
        "\n",
        "\n",
        "#             if original:\n",
        "#                 _c = _c[cal_index]\n",
        "\n",
        "            if original:\n",
        "                _thetabar.append(_c[_c <= abs(_c.min())].mean())\n",
        "            else:\n",
        "                _thetabar.append(_c.mean())\n",
        "\n",
        "        thetabar.append(np.mean(_thetabar))\n",
        "    return thetabar"
      ],
      "metadata": {
        "id": "MvW5V9jco95R"
      },
      "execution_count": 21,
      "outputs": []
    },
    {
      "cell_type": "code",
      "source": [
        "original_bar = original_dmldid_rcs(df_rcs, y_col, d_col, t_col, X_cols)"
      ],
      "metadata": {
        "colab": {
          "base_uri": "https://localhost:8080/"
        },
        "id": "C6XNkoqjp6m7",
        "outputId": "a0db27ef-c94c-41cc-ca34-9d8088f2c9e5"
      },
      "execution_count": 22,
      "outputs": [
        {
          "output_type": "stream",
          "name": "stderr",
          "text": [
            "100%|██████████| 100/100 [00:56<00:00,  1.78it/s]\n"
          ]
        }
      ]
    },
    {
      "cell_type": "code",
      "source": [
        "original_bar_few_fixed = original_dmldid_rcs(df_rcs, y_col, d_col, t_col, X_cols, original=False)"
      ],
      "metadata": {
        "colab": {
          "base_uri": "https://localhost:8080/"
        },
        "id": "RuKNr9OkqE7M",
        "outputId": "2d4a56b5-3168-453d-fcfa-c270ffa2230b"
      },
      "execution_count": 23,
      "outputs": [
        {
          "output_type": "stream",
          "name": "stderr",
          "text": [
            "100%|██████████| 100/100 [00:49<00:00,  2.03it/s]\n"
          ]
        }
      ]
    },
    {
      "cell_type": "code",
      "source": [
        "_label = [\"Chang(2020)\", \"minor revision model (lasso)\", \"Asami-modified model (lasso)\",\"Asami-modified model (lgbm)\"]\n",
        "result_df = pd.DataFrame(\n",
        "    {\n",
        "        \"original_bar\" : original_bar,\n",
        "        \"few_fixed_bar\" : original_bar_few_fixed, \n",
        "        \"algo_modified_bar\" : algo_modified_bar ,\n",
        "        \"algo_modified_bar_lgbm\" : algo_modified_bar_lgbm,\n",
        "    }\n",
        ")\n",
        "fig, ax = plt.subplots(2, 2, sharex='col', sharey='row', figsize=(10,7))\n",
        "ax = ax.ravel() \n",
        "for i, _col in enumerate(result_df.columns):\n",
        "    ax[i].hist(result_df[_col], bins=100, alpha=0.5)\n",
        "    #ax[i].set_xlim(0,5)\n",
        "    ax[i].set_title(_label[i])\n",
        "    ax[i].axvline(x=3, alpha=0.5, color = \"black\")\n",
        "    ax[i].axvline(x=result_df[_col].mean(), alpha=0.9)\n",
        "plt.show()"
      ],
      "metadata": {
        "colab": {
          "base_uri": "https://localhost:8080/",
          "height": 445
        },
        "id": "AMQwnh4_qQR6",
        "outputId": "8bdd9377-e83f-4626-d64a-c058623fce30"
      },
      "execution_count": 24,
      "outputs": [
        {
          "output_type": "display_data",
          "data": {
            "text/plain": [
              "<Figure size 720x504 with 4 Axes>"
            ],
            "image/png": "[encoded data removed]"
          },
          "metadata": {}
        }
      ]
    },
    {
      "cell_type": "code",
      "source": [],
      "metadata": {
        "id": "vHKcIkJsrTiq"
      },
      "execution_count": null,
      "outputs": []
    }
  ]
}